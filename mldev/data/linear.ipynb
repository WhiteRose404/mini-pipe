{
 "cells": [
  {
   "cell_type": "code",
   "execution_count": 6,
   "id": "8e872c04-590d-4508-ac37-9cd06d120f2f",
   "metadata": {},
   "outputs": [],
   "source": [
    "import tensorflow as tf\n",
    "import numpy as np\n",
    "import matplotlib.pyplot as plt\n",
    "from tensorflow.keras.models import Sequential\n",
    "from tensorflow.keras.layers import Dense\n",
    "from tensorflow.keras.datasets.mnist import load_data\n"
   ]
  },
  {
   "cell_type": "code",
   "execution_count": 132,
   "id": "df1402f7-26c8-453d-9780-dba30833fa3b",
   "metadata": {},
   "outputs": [
    {
     "name": "stdout",
     "output_type": "stream",
     "text": [
      "(10000, 28, 28)\n",
      "(10000,)\n"
     ]
    }
   ],
   "source": [
    "# load the data\n",
    "(X_train, y_train_un), (X_test, y_test) = load_data(path='mnist.npz');\n",
    "\n",
    "print(X_test.shape);\n",
    "print(y_test.shape);\n",
    "# plt.figure(figsize=(10, 10));\n",
    "# for i in range(0,100):\n",
    "#     plt.subplot(10, 10, i+1);\n",
    "#     plt.imshow(X_train[i], cmap=\"gray\");\n",
    "#     plt.title(y_train[i], pad=-1)\n",
    "#     plt.axis('off');\n",
    "# plt.show();"
   ]
  },
  {
   "cell_type": "code",
   "execution_count": 57,
   "id": "4390a20a-cfa4-4ad3-96ca-ef79d89b28fa",
   "metadata": {},
   "outputs": [
    {
     "name": "stdout",
     "output_type": "stream",
     "text": [
      "(60000, 784)\n",
      "[[0. 0. 0. ... 0. 0. 0.]\n",
      " [1. 0. 0. ... 0. 0. 0.]\n",
      " [0. 0. 0. ... 0. 0. 0.]\n",
      " ...\n",
      " [0. 0. 0. ... 0. 0. 0.]\n",
      " [0. 0. 0. ... 0. 0. 0.]\n",
      " [0. 0. 0. ... 0. 1. 0.]]\n"
     ]
    }
   ],
   "source": [
    "# change the data\n",
    "y_train = np.zeros((len(y_train_un), 10));\n",
    "for i in range(len(y_train_un)):\n",
    "    tmp = np.zeros(10);\n",
    "    tmp[y_train_un[i]] = 1;\n",
    "    y_train[i] = tmp\n",
    "X_train = X_train.reshape((60000, 1, -1))[:, 0, :];\n",
    "print(X_train.shape)\n",
    "print(y_train)"
   ]
  },
  {
   "cell_type": "code",
   "execution_count": 87,
   "id": "4d1374da-2816-46a5-89eb-7c3a683aa03a",
   "metadata": {},
   "outputs": [],
   "source": [
    "# making the model\n",
    "model = Sequential(layers = [\n",
    "    Dense(784, activation = 'relu'),\n",
    "    Dense(1176, activation = 'relu'),\n",
    "    Dense(823, activation = 'relu'),\n",
    "    Dense(494, activation = 'relu'),\n",
    "    Dense(197, activation = 'relu'),\n",
    "    Dense(78, activation = 'relu'),\n",
    "    Dense(23, activation = 'relu'),\n",
    "    Dense(10, activation = 'linear')\n",
    "]);\n"
   ]
  },
  {
   "cell_type": "code",
   "execution_count": 91,
   "id": "6b3bd8f8-9471-43fe-927a-efa5e0f2a663",
   "metadata": {},
   "outputs": [],
   "source": [
    "model.compile(loss=tf.keras.losses.CategoricalCrossentropy(from_logits=True), optimizer=tf.keras.optimizers.Adam());"
   ]
  },
  {
   "cell_type": "code",
   "execution_count": 92,
   "id": "80dfdb66-1ec2-49d7-bc80-a503b71017e7",
   "metadata": {},
   "outputs": [
    {
     "name": "stdout",
     "output_type": "stream",
     "text": [
      "Epoch 1/10\n",
      "1875/1875 [==============================] - 49s 25ms/step - loss: 2.1262\n",
      "Epoch 2/10\n",
      "1875/1875 [==============================] - 49s 26ms/step - loss: 0.6455\n",
      "Epoch 3/10\n",
      "1875/1875 [==============================] - 48s 25ms/step - loss: 0.2314\n",
      "Epoch 4/10\n",
      "1875/1875 [==============================] - 51s 27ms/step - loss: 0.1538\n",
      "Epoch 5/10\n",
      "1875/1875 [==============================] - 49s 26ms/step - loss: 0.1272\n",
      "Epoch 6/10\n",
      "1875/1875 [==============================] - 50s 27ms/step - loss: 0.1038\n",
      "Epoch 7/10\n",
      "1875/1875 [==============================] - 49s 26ms/step - loss: 0.1168\n",
      "Epoch 8/10\n",
      "1875/1875 [==============================] - 49s 26ms/step - loss: 0.0868\n",
      "Epoch 9/10\n",
      "1875/1875 [==============================] - 51s 27ms/step - loss: 0.0779\n",
      "Epoch 10/10\n",
      "1875/1875 [==============================] - 51s 27ms/step - loss: 0.0613\n"
     ]
    }
   ],
   "source": [
    "model.fit(X_train, y_train, epochs=10);"
   ]
  },
  {
   "cell_type": "code",
   "execution_count": 137,
   "id": "252cfccc-7208-448a-89a8-fe6c441f6f2f",
   "metadata": {},
   "outputs": [
    {
     "name": "stdout",
     "output_type": "stream",
     "text": [
      "graph\n",
      "(10000, 784) (10000, 10)\n",
      "313/313 [==============================] - 2s 8ms/step - loss: 0.2051\n",
      "Test accuracy: 0.20507682859897614\n"
     ]
    }
   ],
   "source": [
    "print(\"graph\");\n",
    "for i in range(50, 10):\n",
    "    indice = i;\n",
    "    plt.imshow(X_test[indice], cmap=\"gray\");\n",
    "    plt.show()\n",
    "    \n",
    "    def getOutput(arr):\n",
    "        max = 0\n",
    "        index = 0;\n",
    "        winner = 0;\n",
    "        for i in arr[0]:\n",
    "            i = float(i)\n",
    "            print(\"------------- indice:\", index, round(i, 4))\n",
    "            if( i > max ):\n",
    "                max = i;\n",
    "                winner = index;\n",
    "            index += 1;\n",
    "        return winner\n",
    "    \n",
    "    sample = X_test[indice].reshape(-1, 28*28).astype(np.float32)\n",
    "    print(getOutput(tf.nn.softmax(model.predict(sample))))\n",
    "    print(y_test[indice])\n",
    "\n",
    "\n",
    "X_test = X_test.reshape((10000, -1, 28*28))[:, 0, :];\n",
    "y_t = np.zeros((len(y_test), 10));\n",
    "for i in range(len(y_test)):\n",
    "    tmp = np.zeros(10);\n",
    "    tmp[y_test[i]] = 1;\n",
    "    y_t[i] = tmp\n",
    "print(X_test.shape, y_t.shape)\n",
    "accuracy = model.evaluate(X_test, y_t)\n",
    "print(\"Test accuracy:\", accuracy)"
   ]
  },
  {
   "cell_type": "code",
   "execution_count": 152,
   "id": "b649e29d-6b9a-4cc0-a3be-81578ae2fb9a",
   "metadata": {},
   "outputs": [
    {
     "name": "stdin",
     "output_type": "stream",
     "text": [
      "Overwrite the old model? (y/n) y\n"
     ]
    }
   ],
   "source": [
    "# save the model\n",
    "from pathlib import Path\n",
    "\n",
    "modelfile = Path().cwd() / 'model.keras';\n",
    "if(currentDir.exists()):\n",
    "    res = input(\"Overwrite the old model? (y/n)\");\n",
    "    if(res == 'y'):\n",
    "        model.save(modelfile);\n",
    "    else:\n",
    "        print(\"model was not saved\");\n",
    "else:\n",
    "    model.save(modelfile);"
   ]
  },
  {
   "cell_type": "code",
   "execution_count": null,
   "id": "c3779797-30fe-4255-84a5-9cb8942f7a63",
   "metadata": {},
   "outputs": [],
   "source": []
  }
 ],
 "metadata": {
  "kernelspec": {
   "display_name": "Python 3 (ipykernel)",
   "language": "python",
   "name": "python3"
  },
  "language_info": {
   "codemirror_mode": {
    "name": "ipython",
    "version": 3
   },
   "file_extension": ".py",
   "mimetype": "text/x-python",
   "name": "python",
   "nbconvert_exporter": "python",
   "pygments_lexer": "ipython3",
   "version": "3.11.4"
  }
 },
 "nbformat": 4,
 "nbformat_minor": 5
}
